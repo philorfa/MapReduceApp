{
 "cells": [
  {
   "cell_type": "code",
   "execution_count": 1,
   "metadata": {},
   "outputs": [
    {
     "name": "stdout",
     "output_type": "stream",
     "text": [
      "Requirement already satisfied: findspark in ./anaconda3/lib/python3.7/site-packages (1.3.0)\n"
     ]
    }
   ],
   "source": [
    "!pip install findspark\n",
    "import findspark\n",
    "findspark.init()\n",
    "import pandas as pd\n",
    "import pyspark\n",
    "\n",
    "from pyspark import SparkContext, SparkConf\n",
    "\n",
    "from math import radians, cos, sin, asin, sqrt\n"
   ]
  },
  {
   "cell_type": "code",
   "execution_count": 2,
   "metadata": {},
   "outputs": [],
   "source": [
    "conf = SparkConf().setAppName('kMeans')\n",
    "sc = SparkContext(conf=conf)"
   ]
  },
  {
   "cell_type": "code",
   "execution_count": 3,
   "metadata": {},
   "outputs": [],
   "source": [
    "tripdata=sc.textFile(\"hdfs://master:9000/yellow_tripdata_1m.csv\").map(lambda line: (float(line.split(',')[3]), float(line.split(',')[4]))).filter(lambda line: (-75.0<=line[0] and line[0]<=-73.0) and (40.0<=line[1] and line[1]<=41.0))"
   ]
  },
  {
   "cell_type": "code",
   "execution_count": 4,
   "metadata": {},
   "outputs": [
    {
     "data": {
      "text/plain": [
       "PythonRDD[2] at RDD at PythonRDD.scala:53"
      ]
     },
     "execution_count": 4,
     "metadata": {},
     "output_type": "execute_result"
    }
   ],
   "source": [
    "tripdata.cache()"
   ]
  },
  {
   "cell_type": "code",
   "execution_count": 5,
   "metadata": {},
   "outputs": [],
   "source": [
    "centroids=tripdata.take(5)"
   ]
  },
  {
   "cell_type": "code",
   "execution_count": 6,
   "metadata": {},
   "outputs": [],
   "source": [
    "def harv(lat_longt,centr0,centr1):\n",
    "    dlon=lat_longt[0]-centr0\n",
    "    dlat=lat_longt[1]-centr1\n",
    "    a = sin(dlat/2)**2 + cos(lat_longt[1]) * cos(centr1) * sin(dlon/2)**2\n",
    "    c = 2 * asin(sqrt(a))\n",
    "    r = 6371 \n",
    "    return c * r"
   ]
  },
  {
   "cell_type": "code",
   "execution_count": 7,
   "metadata": {},
   "outputs": [],
   "source": [
    "def closerto(latitude_longtitude,centers):\n",
    "        closer = 0\n",
    "        minimum= float(\"+inf\")\n",
    "        harvesine = 0\n",
    "        for i in range(len(centers)):\n",
    "                harvesine =harv(latitude_longtitude,centers[i][0],centers[i][1])\n",
    "                if(minimum>harvesine):\n",
    "                        minimum = harvesine\n",
    "                        closer = i\n",
    "\n",
    "        return closer"
   ]
  },
  {
   "cell_type": "code",
   "execution_count": 8,
   "metadata": {},
   "outputs": [],
   "source": [
    "for i in range(3):\n",
    "    closer = tripdata.map(lambda p: (closerto(p,centroids),(p,1)))\n",
    "    tmpcloser=closer.reduceByKey(lambda first,sec: ((first[0][0]+sec[0][0],first[0][1]+sec[0][1]),first[1]+sec[1]))\n",
    "    if(i==2):\n",
    "        centroids1=tmpcloser.map(lambda calc: (calc[0]+1,(calc[1][0][0]/calc[1][1],calc[1][0][1]/calc[1][1])))\n",
    "        centroids=centroids1.take(5)\n",
    "    else:\n",
    "        centroids1=tmpcloser.mapValues(lambda calc: (calc[0][0]/calc[1],calc[0][1]/calc[1]))\n",
    "        centroids=centroids1.collectAsMap()"
   ]
  },
  {
   "cell_type": "code",
   "execution_count": 9,
   "metadata": {},
   "outputs": [
    {
     "name": "stdout",
     "output_type": "stream",
     "text": [
      "1 (-74.00574388833066, 40.731973423792034)\n",
      "2 (-73.8408628625184, 40.71848561205232)\n",
      "3 (-73.9941772949744, 40.71457444108354)\n",
      "4 (-73.98904492472074, 40.74569673477064)\n",
      "5 (-73.96854832041109, 40.771312500417224)\n"
     ]
    }
   ],
   "source": [
    "for i in range(5):\n",
    "        print(centroids[i][0] , centroids[i][1])"
   ]
  },
  {
   "cell_type": "code",
   "execution_count": 10,
   "metadata": {},
   "outputs": [],
   "source": [
    "centroids1.coalesce(1).saveAsTextFile(\"hdfs://master:9000/output\")"
   ]
  }
 ],
 "metadata": {
  "kernelspec": {
   "display_name": "Python 3",
   "language": "python",
   "name": "python3"
  },
  "language_info": {
   "codemirror_mode": {
    "name": "ipython",
    "version": 3
   },
   "file_extension": ".py",
   "mimetype": "text/x-python",
   "name": "python",
   "nbconvert_exporter": "python",
   "pygments_lexer": "ipython3",
   "version": "3.7.4"
  }
 },
 "nbformat": 4,
 "nbformat_minor": 4
}
